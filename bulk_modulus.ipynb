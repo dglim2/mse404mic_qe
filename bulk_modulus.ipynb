{
 "cells": [
  {
   "cell_type": "code",
   "execution_count": 1,
   "id": "e9a9f15b-c447-4cbb-93c0-084018b2f0cd",
   "metadata": {},
   "outputs": [],
   "source": [
    "from math import *\n",
    "import numpy as np\n",
    "import scipy as sp\n",
    "import matplotlib.pyplot as plt"
   ]
  },
  {
   "cell_type": "code",
   "execution_count": 3,
   "id": "90076327-89ca-4024-bb64-16d6c5727c89",
   "metadata": {},
   "outputs": [
    {
     "name": "stdout",
     "output_type": "stream",
     "text": [
      "7.5716172984 7.596772357937472 7.546293974468202\n"
     ]
    }
   ],
   "source": [
    "a_relaxed = 7.6 * 0.498132717 / 0.5\n",
    "a_stretch = a_relaxed * np.cbrt(1.01)\n",
    "a_squeeze = a_relaxed * np.cbrt(0.99)\n",
    "\n",
    "print(a_relaxed, a_stretch, a_squeeze)"
   ]
  },
  {
   "cell_type": "code",
   "execution_count": 7,
   "id": "da81cde8-500d-4139-8f06-c3863fcf4ad1",
   "metadata": {},
   "outputs": [],
   "source": [
    "P_relaxed = 0.17 * 0.1 # GPa\n",
    "P_stretch = -8.10 * 0.1 # GPa\n",
    "P_squeeze = 8.88 * 0.1 # GPa\n",
    "\n",
    "V_relaxed = 2 * (0.5 * a_relaxed) ** 3\n",
    "V_stretch = 2 * (0.5 * a_stretch) ** 3\n",
    "V_squeeze = 2 * (0.5 * a_squeeze) ** 3"
   ]
  },
  {
   "cell_type": "code",
   "execution_count": 8,
   "id": "edcfea8d-1be1-4f81-a2d9-4d45fdeb65c8",
   "metadata": {},
   "outputs": [
    {
     "name": "stdout",
     "output_type": "stream",
     "text": [
      "84.8999999999995\n"
     ]
    }
   ],
   "source": [
    "K = -V_relaxed * (P_stretch - P_squeeze) / (V_stretch - V_squeeze)\n",
    "print(K)"
   ]
  },
  {
   "cell_type": "code",
   "execution_count": null,
   "id": "41b29ec6-aca7-47c5-998a-c575e7ef070b",
   "metadata": {},
   "outputs": [],
   "source": []
  }
 ],
 "metadata": {
  "kernelspec": {
   "display_name": "Python 3 (ipykernel)",
   "language": "python",
   "name": "python3"
  },
  "language_info": {
   "codemirror_mode": {
    "name": "ipython",
    "version": 3
   },
   "file_extension": ".py",
   "mimetype": "text/x-python",
   "name": "python",
   "nbconvert_exporter": "python",
   "pygments_lexer": "ipython3",
   "version": "3.13.7"
  }
 },
 "nbformat": 4,
 "nbformat_minor": 5
}
